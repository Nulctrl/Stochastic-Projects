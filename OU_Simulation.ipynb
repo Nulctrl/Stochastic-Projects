{
 "cells": [
  {
   "cell_type": "code",
   "execution_count": 2,
   "id": "0e9b0b78",
   "metadata": {},
   "outputs": [],
   "source": [
    "from numpy.random import default_rng         #  numpy randon number generator routines\n",
    "import numpy as np\n",
    "import matplotlib.pyplot as plt\n",
    "from scipy.stats import norm"
   ]
  },
  {
   "cell_type": "code",
   "execution_count": 3,
   "id": "8cfe0243",
   "metadata": {},
   "outputs": [],
   "source": [
    "#-------------------- The simulator, Create OU paths using EM  --------------------\n",
    "def path_sim( X0, n, dt, T, a, sig, rng):\n",
    "    \"\"\"Simulate and return n independent paths for the Ornstein Unhelbeck with Z_n being standard normal random variables\n",
    "       process dX_t = -a X_t dt + sig*dW_t.\n",
    "    Arguments\n",
    "    X0:  (type = float) start value of the paths, X[i,0] = X0\n",
    "    n:   (type = int) the number of paths\n",
    "    dt:  (type = float) time step for the simulator\n",
    "    a:   (type = float) mean reversion parameter\n",
    "    sig: (type = float) noise parameter\n",
    "    rng: an instance of a random number generator: np.random.Generator\n",
    "    return: (X,T) (type = tuple, (np array, np array))\n",
    "            X = simuated paths, X[i,k] = step k of path i\n",
    "            T = times T[k] = time of step k\n",
    "      Note: X[:,0] = X0[:] (copy starting points) and T[0] = 0\n",
    "    \"\"\"    \n",
    "#      adjust dt (make it slightly smaller) to get an integer number of steps\n",
    "\n",
    "    nT = T/dt        #  \"number\" of time steps, but may not be an integer\n",
    "    nT = int(nT+1)   #  round up to the nearest integer, the number of time steps\n",
    "    dt = T/nT        #  adjust the time step down accordingly\n",
    "    \n",
    "    T = np.linspace( 0., T, nT+1)             # steps of size dt between 0 and T,\n",
    "                                              # including 0 and T\n",
    "    X = np.zeros( ( n, (nT+1)), np.float64)   #  allocate path array\n",
    "    for i in range(n):\n",
    "       X[i,0] = X0\n",
    "    for k in range(nT):  # take a time step for all n paths at once\n",
    "    \n",
    "       X[:,k+1] = X[:,k] - a*X[:,k]*dt + rng.standard_normal(n)*sig*np.sqrt(dt) #let Z_n be standard normal\n",
    "       \n",
    "    return (X,T)  "
   ]
  },
  {
   "cell_type": "code",
   "execution_count": 4,
   "id": "ed4c78a3",
   "metadata": {},
   "outputs": [],
   "source": [
    "#------------------ Setting Parameters ---------------------------------------------------\n",
    "\n",
    "rng = default_rng()      # instantiate a bit generator\n",
    "\n",
    "#    Parameters for the OU process being simulated\n",
    "\n",
    "a   = -.2     # mean reversion parameter\n",
    "sig = 1.     # noise amplitude\n",
    "X0  = 0.     # starting point for simulated paths\n",
    "dt  = 0.001 # simulation time step size\n",
    "\n",
    "PathPlotFile    = \"PathPics.pdf\"      # filename for a picture of some paths\n",
    "DensityPlotFile = \"OU_densities.pdf\"  # filename for a PDF plots"
   ]
  },
  {
   "cell_type": "code",
   "execution_count": 9,
   "id": "04ff0d1f",
   "metadata": {
    "scrolled": true
   },
   "outputs": [
    {
     "data": {
      "image/png": "[encoded data removed]",
      "text/plain": [
       "<Figure size 432x288 with 1 Axes>"
      ]
     },
     "metadata": {
      "needs_background": "light"
     },
     "output_type": "display_data"
    }
   ],
   "source": [
    "#------------------Main Program—PDF Visualization---------------------------------------------------\n",
    "fig, ax = plt.subplots()     # Create a figure containing a single axes.\n",
    "\n",
    "n_hist = 100000\n",
    "n_bins = 40\n",
    "X_hist = []\n",
    "dt1=0.1\n",
    "dt2=0.001\n",
    "T2=2\n",
    "\n",
    "X,T = path_sim( X0, n_hist, dt1, T2, a, sig, rng) # simulation with relatively large Δt\n",
    "hist1 = \"Δt={dt3:9.3f}\".format(dt3=dt1)\n",
    "\n",
    "nn,nT = X.shape\n",
    "X_hist.append( X[:,nT-1] )\n",
    "\n",
    "X,T = path_sim( X0, n_hist, dt2, T2, a, sig, rng) # simulation with small Δt\n",
    "hist2 = \"Δt={dt3:9.3f}\".format(dt3=dt2)\n",
    "\n",
    "nn,nT = X.shape\n",
    "X_hist.append( X[:,nT-1] )\n",
    "\n",
    "ax.hist(X_hist, bins = n_bins, range = (-4., 4.), density = True, label = [hist1,hist2])\n",
    "ax.legend()\n",
    "ax.grid()\n",
    "plt.xlabel(\"X(2)\")\n",
    "plt.ylabel(\"density\")\n",
    "HistTitle = r'Histogram estimated PDF of $X_2$ using{n_hist:10.2e} paths'\n",
    "HistTitle = HistTitle.format(n_hist=n_hist)\n",
    "plt.title(HistTitle)\n",
    "\n",
    "#x-axis ranges from -4 and 4 with .001 steps\n",
    "xspace = np.arange(-4, 4, 0.001)\n",
    "limit=\"Δt→0\"\n",
    "\n",
    "#plot normal distribution with mean 0 and variance \n",
    "ax.plot(xspace, norm.pdf(xspace, 0, np.sqrt(2.5)),label=limit)\n",
    "ax.legend(loc='upper right')\n",
    "\n",
    "plt.savefig(DensityPlotFile)\n",
    "plt.show()"
   ]
  },
  {
   "cell_type": "code",
   "execution_count": 51,
   "id": "b77ec7b6",
   "metadata": {},
   "outputs": [],
   "source": [
    "#-------------------- The simulator, Create OU paths using EM  --------------------\n",
    "def path_sim( X0, n, dt, T, a, sig, rng):\n",
    "    \"\"\"Same as above except using different Zn for simulation this time.\n",
    "    \"\"\"    \n",
    "#      adjust dt (make it slightly smaller) to get an integer number of steps\n",
    "\n",
    "    nT = T/dt        #  \"number\" of time steps, but may not be an integer\n",
    "    nT = int(nT+1)   #  round up to the nearest integer, the number of time steps\n",
    "    dt = T/nT        #  adjust the time step down accordingly\n",
    "    \n",
    "    T = np.linspace( 0., T, nT+1)             # steps of size dt between 0 and T,\n",
    "                                              # including 0 and T\n",
    "    X = np.zeros( ( n, (nT+1)), np.float64)   #  allocate path array\n",
    "    for i in range(n):\n",
    "       X[i,0] = X0\n",
    "    for k in range(nT):  # take a time step for all n paths at once\n",
    "    \n",
    "       X[:,k+1] = X[:,k] - a*X[:,k]*dt + (-np.log(rng.uniform(0,1,n))-1)*sig*np.sqrt(dt) #let Z_n be T_n -1\n",
    "       \n",
    "    return (X,T)  "
   ]
  },
  {
   "cell_type": "code",
   "execution_count": 7,
   "id": "e9232abc",
   "metadata": {},
   "outputs": [
    {
     "data": {
      "image/png": "[encoded data removed]",
      "text/plain": [
       "<Figure size 432x288 with 1 Axes>"
      ]
     },
     "metadata": {
      "needs_background": "light"
     },
     "output_type": "display_data"
    }
   ],
   "source": [
    "#------------------Main Program—PDF Visualization---------------------------------------------------\n",
    "fig, ax = plt.subplots()     # Create a figure containing a single axes.\n",
    "\n",
    "n_hist = 100000\n",
    "n_bins = 40\n",
    "X_hist = []\n",
    "dt1=0.1\n",
    "dt2=0.001\n",
    "T2=2\n",
    "\n",
    "X,T = path_sim( X0, n_hist, dt1, T2, a, sig, rng) # simulation with relatively large Δt\n",
    "hist1 = \"Δt={dt3:9.3f}\".format(dt3=dt1)\n",
    "\n",
    "nn,nT = X.shape\n",
    "X_hist.append( X[:,nT-1] )\n",
    "\n",
    "X,T = path_sim( X0, n_hist, dt2, T2, a, sig, rng) # simulation with small Δt\n",
    "hist2 = \"Δt={dt3:9.3f}\".format(dt3=dt2)\n",
    "\n",
    "nn,nT = X.shape\n",
    "X_hist.append( X[:,nT-1] )\n",
    "\n",
    "ax.hist(X_hist, bins = n_bins, range = (-4., 4.), density = True, label = [hist1,hist2])\n",
    "ax.legend()\n",
    "ax.grid()\n",
    "plt.xlabel(\"X(2)\")\n",
    "plt.ylabel(\"density\")\n",
    "HistTitle = r'Histogram estimated PDF of $X_2$ using{n_hist:10.2e} paths'\n",
    "HistTitle = HistTitle.format(n_hist=n_hist)\n",
    "plt.title(HistTitle)\n",
    "\n",
    "#x-axis ranges from -4 and 4 with .001 steps\n",
    "xspace = np.arange(-4, 4, 0.001)\n",
    "limit=\"Δt→0\"\n",
    "\n",
    "#plot normal distribution with mean 0 and variance \n",
    "ax.plot(xspace, norm.pdf(xspace, 0, np.sqrt(2.5*(np.exp(0.8))-1)),label=limit)\n",
    "ax.legend(loc='upper right')\n",
    "\n",
    "plt.savefig(DensityPlotFile)\n",
    "plt.show()"
   ]
  },
  {
   "cell_type": "code",
   "execution_count": null,
   "id": "d7aedf01",
   "metadata": {},
   "outputs": [],
   "source": []
  }
 ],
 "metadata": {
  "kernelspec": {
   "display_name": "Python 3 (ipykernel)",
   "language": "python",
   "name": "python3"
  },
  "language_info": {
   "codemirror_mode": {
    "name": "ipython",
    "version": 3
   },
   "file_extension": ".py",
   "mimetype": "text/x-python",
   "name": "python",
   "nbconvert_exporter": "python",
   "pygments_lexer": "ipython3",
   "version": "3.9.7"
  }
 },
 "nbformat": 4,
 "nbformat_minor": 5
}
