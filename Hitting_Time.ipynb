{
 "cells": [
  {
   "cell_type": "code",
   "execution_count": 1,
   "id": "6aa6e1a1",
   "metadata": {},
   "outputs": [],
   "source": [
    "from numpy.random import default_rng         #  numpy randon number generator routines\n",
    "import numpy as np\n",
    "import matplotlib.pyplot as plt\n",
    "from scipy.stats import norm"
   ]
  },
  {
   "cell_type": "code",
   "execution_count": 5,
   "id": "df760077",
   "metadata": {},
   "outputs": [],
   "source": [
    "#-------------------- The simulator, Create BM paths using EM  --------------------\n",
    "def path_sim( X0, n, dt, T, rng):\n",
    "    \"\"\"Simulate and return n independent paths for the Ornstein Unhelbeck with Z_n being standard normal random variables\n",
    "       process dX_t = -a X_t dt + sig*dW_t.\n",
    "    Arguments\n",
    "    X0:  (type = float) start value of the paths, X[i,0] = X0\n",
    "    n:   (type = int) the number of paths\n",
    "    dt:  (type = float) time step for the simulator\n",
    "    rng: an instance of a random number generator: np.random.Generator\n",
    "    return: Y (type = np array))\n",
    "            Y = the hitting time of all simulations\n",
    "            \n",
    "    Note: X = simuated paths, X[i,k] = step k of path i\n",
    "          T = the maximum time \n",
    "          X[:,0] = X0[:] (copy starting points) and T[0] = 0\n",
    "    \"\"\"    \n",
    "#      adjust dt (make it slightly smaller) to get an integer number of steps\n",
    "\n",
    "    nT = T/dt        #  \"number\" of time steps, but may not be an integer\n",
    "    nT = int(nT+1)   #  round up to the nearest integer, the number of time steps\n",
    "    dt = T/nT        #  adjust the time step down accordingly\n",
    "    \n",
    "    T = np.linspace( 0., T, nT+1)             # steps of size dt between 0 and T,\n",
    "                                              # including 0 and T\n",
    "    X = np.zeros( ( n, (nT+1)), np.float64)   #  allocate path array\n",
    "    Y = np.zeros((n), np.float64)\n",
    "    for i in range(n):                        # the loop to find all hitting times in all paths\n",
    "        X[i,0] = X0\n",
    "        Y[i]=-5 # set the hitting time of all the unhitted paths at -5\n",
    "        for k in range(nT): \n",
    "            if (X[i,k]<=0):\n",
    "                Y[i]=k*dt # number of steps times the length of each time step\n",
    "                break\n",
    "            X[i,k+1] = X[i,k] + rng.standard_normal(1)*np.sqrt(dt) #let Z_n be standard normal\n",
    "        if (i%1000==0):\n",
    "            print(i) # motinor the progress\n",
    "    return Y "
   ]
  },
  {
   "cell_type": "code",
   "execution_count": 6,
   "id": "5894d02a",
   "metadata": {},
   "outputs": [
    {
     "ename": "TypeError",
     "evalue": "path_sim() takes 5 positional arguments but 7 were given",
     "output_type": "error",
     "traceback": [
      "\u001b[1;31m---------------------------------------------------------------------------\u001b[0m",
      "\u001b[1;31mTypeError\u001b[0m                                 Traceback (most recent call last)",
      "\u001b[1;32m~\\AppData\\Local\\Temp/ipykernel_8748/2195969313.py\u001b[0m in \u001b[0;36m<module>\u001b[1;34m\u001b[0m\n\u001b[0;32m     23\u001b[0m \u001b[1;31m#   generate and plot the bold paths\u001b[0m\u001b[1;33m\u001b[0m\u001b[1;33m\u001b[0m\u001b[0m\n\u001b[0;32m     24\u001b[0m \u001b[1;33m\u001b[0m\u001b[0m\n\u001b[1;32m---> 25\u001b[1;33m \u001b[0mX\u001b[0m\u001b[1;33m,\u001b[0m\u001b[0mT\u001b[0m \u001b[1;33m=\u001b[0m \u001b[0mpath_sim\u001b[0m\u001b[1;33m(\u001b[0m \u001b[0mX0\u001b[0m\u001b[1;33m,\u001b[0m \u001b[0mn_bold\u001b[0m\u001b[1;33m,\u001b[0m \u001b[0mdt\u001b[0m\u001b[1;33m,\u001b[0m \u001b[0mT_f\u001b[0m\u001b[1;33m,\u001b[0m \u001b[0ma\u001b[0m\u001b[1;33m,\u001b[0m \u001b[0msig\u001b[0m\u001b[1;33m,\u001b[0m \u001b[0mrng\u001b[0m\u001b[1;33m)\u001b[0m\u001b[1;33m\u001b[0m\u001b[1;33m\u001b[0m\u001b[0m\n\u001b[0m\u001b[0;32m     26\u001b[0m \u001b[1;33m\u001b[0m\u001b[0m\n\u001b[0;32m     27\u001b[0m \u001b[0mbold_colors\u001b[0m \u001b[1;33m=\u001b[0m \u001b[1;33m[\u001b[0m\u001b[1;34m'blue'\u001b[0m\u001b[1;33m,\u001b[0m \u001b[1;34m'green'\u001b[0m\u001b[1;33m,\u001b[0m \u001b[1;34m'red'\u001b[0m\u001b[1;33m]\u001b[0m\u001b[1;33m\u001b[0m\u001b[1;33m\u001b[0m\u001b[0m\n",
      "\u001b[1;31mTypeError\u001b[0m: path_sim() takes 5 positional arguments but 7 were given"
     ]
    },
    {
     "data": {
      "image/png": "[encoded data removed]",
      "text/plain": [
       "<Figure size 432x288 with 1 Axes>"
      ]
     },
     "metadata": {
      "needs_background": "light"
     },
     "output_type": "display_data"
    }
   ],
   "source": [
    "#------------------ The main program ---------------------------------------------------\n",
    "\n",
    "rng = default_rng()      # instantiate a bit generator\n",
    "\n",
    "#    Parameters for the OU process being simulated\n",
    "\n",
    "a   = .2     # mean reversion parameter\n",
    "sig = 1.     # noise amplitude\n",
    "X0  = 0.     # starting point for simulated paths\n",
    "dt  = .001     # simulation time step size\n",
    "\n",
    "PathPlotFile    = \"PathPics.pdf\"      # filename for a picture of some paths\n",
    "DensityPlotFile = \"OU_densities.pdf\"  # filename for a PDF plots\n",
    "\n",
    "#   Make a picture with a few paths\n",
    "\n",
    "n_bold = 3                 # number of bold paths\n",
    "n_soft = 50                # number of softer paths\n",
    "T_f    = 2.                # simulate to this \"fial\" time\n",
    "\n",
    "fig, ax = plt.subplots()     # Create a figure containing a single axes.\n",
    "\n",
    "#   generate and plot the bold paths\n",
    "\n",
    "X,T = path_sim( X0, n_bold, dt, T_f, a, sig, rng)\n",
    "\n",
    "bold_colors = ['blue', 'green', 'red']\n",
    "for i in range(n_bold):\n",
    "   ax.plot( T, X[i,:], linewidth = 1, color = bold_colors[i])\n",
    "   \n",
    "#   generate and plot the soft paths\n",
    "\n",
    "X,T = path_sim( X0, n_soft, dt, T_f, a, sig, rng)\n",
    "for i in range(n_soft):\n",
    "   ax.plot( T, X[i,:], linewidth = .1, color = 'gray')\n",
    "\n",
    "plt.ylim( -2.5, 2.5)\n",
    "plt.xlabel(\"T\")\n",
    "plt.ylabel(\"X\")\n",
    "title_string = r\"Ornstein Uhlenbeck paths, $a=${a:6.2f}, $\\sigma =${sig:6.2f}\"\n",
    "title_string = title_string.format(a=a, sig=sig)\n",
    "plt.title(title_string)\n",
    "plt.grid()\n",
    "plt.savefig(PathPlotFile)                                    # save in the same directory\n",
    "plt.show()"
   ]
  },
  {
   "cell_type": "code",
   "execution_count": 14,
   "id": "1ca5d570",
   "metadata": {
    "scrolled": true
   },
   "outputs": [
    {
     "name": "stdout",
     "output_type": "stream",
     "text": [
      "0\n",
      "1000\n",
      "2000\n",
      "3000\n",
      "4000\n",
      "5000\n",
      "6000\n",
      "7000\n",
      "8000\n",
      "9000\n"
     ]
    },
    {
     "data": {
      "image/png": "[encoded data removed]",
      "text/plain": [
       "<Figure size 432x288 with 1 Axes>"
      ]
     },
     "metadata": {
      "needs_background": "light"
     },
     "output_type": "display_data"
    }
   ],
   "source": [
    "#------------------Main Program—PDF Visualization---------------------------------------------------\n",
    "rng = default_rng()      # instantiate a bit generator\n",
    "\n",
    "#    Parameters for the OU process being simulated\n",
    "\n",
    "X0  = 2.     # starting point for simulated paths\n",
    "dt  = .1     # simulation time step size\n",
    "\n",
    "DensityPlotFile = \"BW_densities.pdf\"  # filename for a PDF plots\n",
    "\n",
    "fig, ax = plt.subplots()     # Create a figure containing a single axes.\n",
    "\n",
    "#histogram initializations\n",
    "n_hist = 10000\n",
    "n_bins = 100\n",
    "X_hist = []\n",
    "T2=200.\n",
    "\n",
    "Y = path_sim( X0, n_hist, dt, T2, rng) # simulation with small Δt\n",
    "hist2 = \"Δt={dt3:9.3f}\".format(dt3=dt2)\n",
    "\n",
    "X_hist.append( Y )\n",
    "\n",
    "ax.hist(X_hist, bins = n_bins, range = (-5, T2), density = True, label = [hist2])\n",
    "ax.legend()\n",
    "ax.grid()\n",
    "plt.xlabel(\"Hitting Time T\")\n",
    "plt.ylabel(\"Density\")\n",
    "HistTitle = r'Histogram estimated PDF of Hitting time T using{n_hist:10.2e} paths'\n",
    "HistTitle = HistTitle.format(n_hist=n_hist)\n",
    "plt.title(HistTitle)\n",
    "\n",
    "#x-axis ranges from dt2 and T2 with .001 steps\n",
    "xspace = np.arange(dt, T2, dt)\n",
    "label=\"True PDF\"\n",
    "\n",
    "def pdf(t,a):\n",
    "    \"\"\"The given PDF function\n",
    "    Arguments\n",
    "    t:  (type = float)the desired hitting time t\n",
    "    a:  (type = float) the initial value X0\n",
    "   \n",
    "    return: the probability density at t\n",
    "    \"\"\"    \n",
    "    return (a*np.exp(-a**2/(2*t))/(np.sqrt(2*np.pi*t)*t)) #given by the formula\n",
    "\n",
    "#plot the pdf formula\n",
    "ax.plot(xspace,pdf(xspace,X0),label=label)\n",
    "ax.legend(loc='upper right')\n",
    "\n",
    "plt.savefig(DensityPlotFile)\n",
    "plt.show()"
   ]
  },
  {
   "cell_type": "code",
   "execution_count": null,
   "id": "c43e3e15",
   "metadata": {},
   "outputs": [],
   "source": []
  }
 ],
 "metadata": {
  "kernelspec": {
   "display_name": "Python 3 (ipykernel)",
   "language": "python",
   "name": "python3"
  },
  "language_info": {
   "codemirror_mode": {
    "name": "ipython",
    "version": 3
   },
   "file_extension": ".py",
   "mimetype": "text/x-python",
   "name": "python",
   "nbconvert_exporter": "python",
   "pygments_lexer": "ipython3",
   "version": "3.9.7"
  }
 },
 "nbformat": 4,
 "nbformat_minor": 5
}
